{
  "nbformat": 4,
  "nbformat_minor": 0,
  "metadata": {
    "colab": {
      "provenance": [],
      "authorship_tag": "ABX9TyMz2srXTx2coTkO0M/HQVAD",
      "include_colab_link": true
    },
    "kernelspec": {
      "name": "python3",
      "display_name": "Python 3"
    },
    "language_info": {
      "name": "python"
    }
  },
  "cells": [
    {
      "cell_type": "markdown",
      "metadata": {
        "id": "view-in-github",
        "colab_type": "text"
      },
      "source": [
        "<a href=\"https://colab.research.google.com/github/K0900/Simulacion/blob/main/Unidad2/Practica2.ipynb\" target=\"_parent\"><img src=\"https://colab.research.google.com/assets/colab-badge.svg\" alt=\"Open In Colab\"/></a>"
      ]
    },
    {
      "cell_type": "markdown",
      "source": [
        "# Simulación\n",
        "## Unidad 2\n",
        "### Practica 2. Generación de números aleatorios en Python\n",
        "\n",
        "Maestro: Rodriguez Rivas Jose Gabriel\n",
        "Alumno: Gonzalez Frias Camila"
      ],
      "metadata": {
        "id": "Ujds-xqnD4_o"
      }
    },
    {
      "cell_type": "code",
      "source": [
        "# Método para crear números aleatorios con el Método Congruencial Lineal\n",
        "def generador(semilla, a, b, c, d):\n",
        "    resultados = []\n",
        "    x = semilla\n",
        "\n",
        "    for _ in range(d):\n",
        "        # Fórmula para el método congruencial lineal\n",
        "        x = (a * x + b) % c\n",
        "        resultados.append(x)\n",
        "\n",
        "    return resultados\n",
        "\n",
        "# Parámetros para el método congruencial lineal\n",
        "semilla = 2563  # Semilla inicial\n",
        "a = 23   # Multiplicador\n",
        "b = 47   # Incremento\n",
        "c = 1000  # Módulo reducido para limitar los números entre 0 y 999\n",
        "d = 100  # Cantidad de números a generar\n",
        "\n",
        "# Generar los números aleatorios\n",
        "random_nums = generador(semilla, a, b, c, d)\n",
        "\n",
        "# Imprimir resultados\n",
        "for i, num in enumerate(random_nums):\n",
        "    print(f\"Número Aleatorio {i + 1}: {num}\")"
      ],
      "metadata": {
        "colab": {
          "base_uri": "https://localhost:8080/"
        },
        "id": "X5qzZQjsD5TF",
        "outputId": "c0941149-7bff-48e8-952e-6567d0491104"
      },
      "execution_count": null,
      "outputs": [
        {
          "output_type": "stream",
          "name": "stdout",
          "text": [
            "Número Aleatorio 1: 996\n",
            "Número Aleatorio 2: 955\n",
            "Número Aleatorio 3: 12\n",
            "Número Aleatorio 4: 323\n",
            "Número Aleatorio 5: 476\n",
            "Número Aleatorio 6: 995\n",
            "Número Aleatorio 7: 932\n",
            "Número Aleatorio 8: 483\n",
            "Número Aleatorio 9: 156\n",
            "Número Aleatorio 10: 635\n",
            "Número Aleatorio 11: 652\n",
            "Número Aleatorio 12: 43\n",
            "Número Aleatorio 13: 36\n",
            "Número Aleatorio 14: 875\n",
            "Número Aleatorio 15: 172\n",
            "Número Aleatorio 16: 3\n",
            "Número Aleatorio 17: 116\n",
            "Número Aleatorio 18: 715\n",
            "Número Aleatorio 19: 492\n",
            "Número Aleatorio 20: 363\n",
            "Número Aleatorio 21: 396\n",
            "Número Aleatorio 22: 155\n",
            "Número Aleatorio 23: 612\n",
            "Número Aleatorio 24: 123\n",
            "Número Aleatorio 25: 876\n",
            "Número Aleatorio 26: 195\n",
            "Número Aleatorio 27: 532\n",
            "Número Aleatorio 28: 283\n",
            "Número Aleatorio 29: 556\n",
            "Número Aleatorio 30: 835\n",
            "Número Aleatorio 31: 252\n",
            "Número Aleatorio 32: 843\n",
            "Número Aleatorio 33: 436\n",
            "Número Aleatorio 34: 75\n",
            "Número Aleatorio 35: 772\n",
            "Número Aleatorio 36: 803\n",
            "Número Aleatorio 37: 516\n",
            "Número Aleatorio 38: 915\n",
            "Número Aleatorio 39: 92\n",
            "Número Aleatorio 40: 163\n",
            "Número Aleatorio 41: 796\n",
            "Número Aleatorio 42: 355\n",
            "Número Aleatorio 43: 212\n",
            "Número Aleatorio 44: 923\n",
            "Número Aleatorio 45: 276\n",
            "Número Aleatorio 46: 395\n",
            "Número Aleatorio 47: 132\n",
            "Número Aleatorio 48: 83\n",
            "Número Aleatorio 49: 956\n",
            "Número Aleatorio 50: 35\n",
            "Número Aleatorio 51: 852\n",
            "Número Aleatorio 52: 643\n",
            "Número Aleatorio 53: 836\n",
            "Número Aleatorio 54: 275\n",
            "Número Aleatorio 55: 372\n",
            "Número Aleatorio 56: 603\n",
            "Número Aleatorio 57: 916\n",
            "Número Aleatorio 58: 115\n",
            "Número Aleatorio 59: 692\n",
            "Número Aleatorio 60: 963\n",
            "Número Aleatorio 61: 196\n",
            "Número Aleatorio 62: 555\n",
            "Número Aleatorio 63: 812\n",
            "Número Aleatorio 64: 723\n",
            "Número Aleatorio 65: 676\n",
            "Número Aleatorio 66: 595\n",
            "Número Aleatorio 67: 732\n",
            "Número Aleatorio 68: 883\n",
            "Número Aleatorio 69: 356\n",
            "Número Aleatorio 70: 235\n",
            "Número Aleatorio 71: 452\n",
            "Número Aleatorio 72: 443\n",
            "Número Aleatorio 73: 236\n",
            "Número Aleatorio 74: 475\n",
            "Número Aleatorio 75: 972\n",
            "Número Aleatorio 76: 403\n",
            "Número Aleatorio 77: 316\n",
            "Número Aleatorio 78: 315\n",
            "Número Aleatorio 79: 292\n",
            "Número Aleatorio 80: 763\n",
            "Número Aleatorio 81: 596\n",
            "Número Aleatorio 82: 755\n",
            "Número Aleatorio 83: 412\n",
            "Número Aleatorio 84: 523\n",
            "Número Aleatorio 85: 76\n",
            "Número Aleatorio 86: 795\n",
            "Número Aleatorio 87: 332\n",
            "Número Aleatorio 88: 683\n",
            "Número Aleatorio 89: 756\n",
            "Número Aleatorio 90: 435\n",
            "Número Aleatorio 91: 52\n",
            "Número Aleatorio 92: 243\n",
            "Número Aleatorio 93: 636\n",
            "Número Aleatorio 94: 675\n",
            "Número Aleatorio 95: 572\n",
            "Número Aleatorio 96: 203\n",
            "Número Aleatorio 97: 716\n",
            "Número Aleatorio 98: 515\n",
            "Número Aleatorio 99: 892\n",
            "Número Aleatorio 100: 563\n"
          ]
        }
      ]
    }
  ]
}