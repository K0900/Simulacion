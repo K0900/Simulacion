{
  "nbformat": 4,
  "nbformat_minor": 0,
  "metadata": {
    "colab": {
      "provenance": [],
      "authorship_tag": "ABX9TyOF81dD3uaCDjVIHfkQf7/S",
      "include_colab_link": true
    },
    "kernelspec": {
      "name": "python3",
      "display_name": "Python 3"
    },
    "language_info": {
      "name": "python"
    }
  },
  "cells": [
    {
      "cell_type": "markdown",
      "metadata": {
        "id": "view-in-github",
        "colab_type": "text"
      },
      "source": [
        "<a href=\"https://colab.research.google.com/github/K0900/Simulacion/blob/main/Unidad2/Practica_3.ipynb\" target=\"_parent\"><img src=\"https://colab.research.google.com/assets/colab-badge.svg\" alt=\"Open In Colab\"/></a>"
      ]
    },
    {
      "cell_type": "markdown",
      "source": [
        "# Simulación\n",
        "## Unidad 2\n",
        "### Practica 3.\n",
        "\n",
        "Maestro: Rodriguez Rivas Jose Gabriel\n",
        "\n",
        "Alumno: Gonzalez Frias Camila"
      ],
      "metadata": {
        "id": "zkTL90x7puqa"
      }
    },
    {
      "cell_type": "code",
      "source": [
        "import numpy as np\n",
        "import scipy.stats as stats\n",
        "\n",
        "#1. Generar 100 números aleatorios en el rango [0, 1)\n",
        "n = 100\n",
        "random_numbers = np.random.uniform(0, 1, n)\n",
        "#Mostrar los números alestorios generados print(\"Números aleatorios generados:\")\n",
        "print (random_numbers)\n",
        "\n",
        "#2. Dividir el rango (0, 1] en 10 intervalos (se puede ajustar según necesidades)\n",
        "intervalos = 10\n",
        "observed_counts, bin_edges = np.histogram(random_numbers, bins=intervalos)\n",
        "\n",
        "#3. Número esperado en cada intervalo si la distribución es uniforme\n",
        "expected_count = n/ intervalos # Deberían caer el mismo número de números en cada intervalo\n",
        "\n",
        "#4. Prueba de Chi-Cuadrado\n",
        "chi2_statistic, p_value = stats.chisquare(observed_counts,\n",
        "[expected_count] *intervalos)\n",
        "\n",
        "#5. Mostrar resultados\n",
        "print(\"\\nInFrecuencias observadas por intervalo:\", observed_counts)\n",
        "print (\"Frecuencia esperada por intervalo:\", expected_count)\n",
        "print (\"Chi-Cuadrado:\", chi2_statistic)\n",
        "print (\"Valor p:\", p_value)\n",
        "\n",
        "#6. Interpretación del resultado\n",
        "if p_value < 0.05:\n",
        "   print(\"\\nRechazamos la hipótesis nula: la distribución no es uniforme.\")\n",
        "else:\n",
        "   print(\"\\nNo podemos rechazar la hipótesis nula: la distribución parece uniforme.\")"
      ],
      "metadata": {
        "colab": {
          "base_uri": "https://localhost:8080/"
        },
        "id": "jVvLGzVlpvhZ",
        "outputId": "51d1ff3f-64ce-42ed-864d-ceae3f11e42b"
      },
      "execution_count": 1,
      "outputs": [
        {
          "output_type": "stream",
          "name": "stdout",
          "text": [
            "[0.73648852 0.41319848 0.64873814 0.27355272 0.28373957 0.44661647\n",
            " 0.54147181 0.1647036  0.53913741 0.32205328 0.82810824 0.45503769\n",
            " 0.35560447 0.98337252 0.69338469 0.84537493 0.12552115 0.03287637\n",
            " 0.2713377  0.06543888 0.43824139 0.43875328 0.66930547 0.17031409\n",
            " 0.84710993 0.51823708 0.64350601 0.83531503 0.10260283 0.16362691\n",
            " 0.20525733 0.54363748 0.63407403 0.48170882 0.03985992 0.14538215\n",
            " 0.67339753 0.15835951 0.79972803 0.78143788 0.53842588 0.06234464\n",
            " 0.88359302 0.88523999 0.25745084 0.63576879 0.18076775 0.95015215\n",
            " 0.08954705 0.24506276 0.93573178 0.62131037 0.24866058 0.16924842\n",
            " 0.79095585 0.99048966 0.77718887 0.32325505 0.2155232  0.01812305\n",
            " 0.06269512 0.72238052 0.91021307 0.80678002 0.62694757 0.53497354\n",
            " 0.0053302  0.17463899 0.00629818 0.2307353  0.14754857 0.21613674\n",
            " 0.42116186 0.03988075 0.16854307 0.27725582 0.42293739 0.20411861\n",
            " 0.31933796 0.2051769  0.03356923 0.21435965 0.53659232 0.44965847\n",
            " 0.90869195 0.82124554 0.85314222 0.14017049 0.20031985 0.45422429\n",
            " 0.16271693 0.67928466 0.46453701 0.49146217 0.04218892 0.50541825\n",
            " 0.4240309  0.3345485  0.63052788 0.14724933]\n",
            "\n",
            "InFrecuencias observadas por intervalo: [13 15 14  5 13  8 11  5 10  6]\n",
            "Frecuencia esperada por intervalo: 10.0\n",
            "Chi-Cuadrado: 13.0\n",
            "Valor p: 0.16260626219029953\n",
            "\n",
            "No podemos rechazar la hipótesis nula: la distribución parece uniforme.\n"
          ]
        }
      ]
    }
  ]
}